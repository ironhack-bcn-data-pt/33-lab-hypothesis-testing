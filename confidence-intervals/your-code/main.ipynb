{
 "cells": [
  {
   "cell_type": "markdown",
   "metadata": {},
   "source": [
    "# Challenge 1\n",
    "We want to estimate the average size of the men of a country with a confidence level of 80%. Assuming that the standard deviation of the sizes in the population is 4, get the confidence interval with a sample of men selected randomly, whose heights are:\n",
    "~~~~\n",
    "heights = [167, 167, 168, 168, 168, 169, 171, 172, 173, 175, 175, 175, 177, 182, 195]\n",
    "~~~~"
   ]
  },
  {
   "cell_type": "code",
   "execution_count": 1,
   "metadata": {
    "ExecuteTime": {
     "end_time": "2019-08-05T07:18:13.729155Z",
     "start_time": "2019-08-05T07:18:13.302469Z"
    }
   },
   "outputs": [],
   "source": [
    "# Libraries\n",
    "from scipy import stats;\n",
    "import numpy as np;\n",
    "import math;"
   ]
  },
  {
   "cell_type": "code",
   "execution_count": 2,
   "metadata": {
    "ExecuteTime": {
     "end_time": "2019-08-05T07:18:13.736315Z",
     "start_time": "2019-08-05T07:18:13.731124Z"
    }
   },
   "outputs": [],
   "source": [
    "# We know that the height of people has a normal distribution N(μ,σ) with known σ.\n",
    "# Then, we know that the distribution of sample means is also normally distributed with the following parameters:\n",
    "\n",
    "# Variables\n",
    "sample = [167, 167, 168, 168, 168, 169, 171, 172, 173, 175, 175, 175, 177, 182, 195];\n",
    "pop_std = 4;\n",
    "score = stats.norm.interval(0.80)[1]\n",
    "\n",
    "# Parameters\n",
    "normal_mean = np.mean(sample);\n",
    "normal_std = pop_std / math.sqrt(len(sample));"
   ]
  },
  {
   "cell_type": "code",
   "execution_count": 36,
   "metadata": {
    "ExecuteTime": {
     "end_time": "2019-08-05T07:18:13.740989Z",
     "start_time": "2019-08-05T07:18:13.738755Z"
    }
   },
   "outputs": [
    {
     "name": "stdout",
     "output_type": "stream",
     "text": [
      "the confidence interval of 0.8 is (172.07752526922508, 174.85580806410826)\n"
     ]
    }
   ],
   "source": [
    "# METHOD 1\n",
    "# Confidence interval\n",
    "def confint(conf,size,normmean,normstd):\n",
    "    confidence = conf\n",
    "    n = len(size)\n",
    "    m = normmean\n",
    "    std = normstd\n",
    "    h = std * stats.t(n -1).ppf((1 + confidence) / 2)\n",
    "    start=m-h\n",
    "    end=m+h\n",
    "    return (start,end)\n",
    "\n",
    "interval = confint(0.8,sample,normal_mean,normal_std)\n",
    "    \n",
    "print(f'the confidence interval of 0.8 is {interval}')"
   ]
  },
  {
   "cell_type": "code",
   "execution_count": 39,
   "metadata": {
    "ExecuteTime": {
     "end_time": "2019-08-05T07:18:13.744947Z",
     "start_time": "2019-08-05T07:18:13.742987Z"
    }
   },
   "outputs": [
    {
     "name": "stdout",
     "output_type": "stream",
     "text": [
      "using stats.t.interval (sample size < 30) to find the interval faster: (172.07752526922508, 174.85580806410826)\n"
     ]
    }
   ],
   "source": [
    "# METHOD 2\n",
    "# Confidence interval\n",
    "degrees_freedom = len(sample) - 1\n",
    "confidenceInterval = stats.t.interval(alpha=0.8,\n",
    "                                   df=degrees_freedom,\n",
    "                                   loc=normal_mean, scale=normal_std)\n",
    "print(f'using stats.t.interval (sample size < 30) to find the interval faster: {confidenceInterval}')"
   ]
  },
  {
   "cell_type": "markdown",
   "metadata": {},
   "source": [
    "# Challenge 2 \n",
    "In a sample of 105 shops selected randomly from an area, we note that 27 of them have had losses in this month. Get an confidence interval for the proportion of businesses in the area with losses, to a confidence level of 80% and a confidence level of 90%."
   ]
  },
  {
   "cell_type": "code",
   "execution_count": 20,
   "metadata": {
    "ExecuteTime": {
     "end_time": "2019-08-05T07:18:13.752495Z",
     "start_time": "2019-08-05T07:18:13.746901Z"
    }
   },
   "outputs": [],
   "source": [
    "# According to the Central Limit Theorem, we know that the distribution \n",
    "# of the sample proportion means is normally distributed with approximately the following parameters:\n",
    "\n",
    "# Variables \n",
    "total_shops = 105;\n",
    "loss_shops = 27;\n",
    "score_80 = stats.norm.interval(0.80)[1];\n",
    "score_90 = stats.norm.interval(0.90)[1];\n",
    "\n",
    "# Parameters\n",
    "prop = loss_shops / total_shops;\n",
    "prop_se = math.sqrt((prop * (1 - prop)) / total_shops);"
   ]
  },
  {
   "cell_type": "code",
   "execution_count": 34,
   "metadata": {
    "ExecuteTime": {
     "end_time": "2019-08-05T07:18:13.756731Z",
     "start_time": "2019-08-05T07:18:13.754606Z"
    }
   },
   "outputs": [
    {
     "name": "stdout",
     "output_type": "stream",
     "text": [
      "the proportion of businesses with losses with a confidence of 0.8 is (20.21319222413539, 31.215379204436033)\n",
      "the proportion of businesses with losses with a confidence of 0.9 is (18.635505023962587, 32.79306640460884)\n"
     ]
    }
   ],
   "source": [
    "# METHOD 1\n",
    "# Confidence interval\n",
    "interval = confint(0.8,range(105),prop*100,prop_se*100)\n",
    "print(f'the proportion of businesses with losses with a confidence of 0.8 is {interval}')\n",
    "\n",
    "interval = confint(0.9,range(105),prop*100,prop_se*100)\n",
    "print(f'the proportion of businesses with losses with a confidence of 0.9 is {interval}')"
   ]
  },
  {
   "cell_type": "code",
   "execution_count": 47,
   "metadata": {
    "ExecuteTime": {
     "end_time": "2019-08-05T07:18:13.760357Z",
     "start_time": "2019-08-05T07:18:13.758290Z"
    }
   },
   "outputs": [
    {
     "name": "stdout",
     "output_type": "stream",
     "text": [
      "using stats.normal.interval (sample size > 30) to find the interval faster (cf = 0.8): 20.248%, 31.18%\n",
      "using stats.normal.interval (sample size > 30) to find the interval faster (cf = 0.9): 18.699%, 32.73%\n"
     ]
    }
   ],
   "source": [
    "# METHOD 2\n",
    "# Confidence interval\n",
    "confidenceInterval = stats.norm.interval(alpha=0.8,loc=prop*100, scale=prop_se*100)\n",
    "print(f'using stats.normal.interval (sample size > 30) to find the interval faster (cf = 0.8): {round(confidenceInterval[0],3)}%, {round(confidenceInterval[1],3)}%')\n",
    "\n",
    "confidenceInterval = stats.norm.interval(alpha=0.9,loc=prop*100, scale=prop_se*100)\n",
    "print(f'using stats.normal.interval (sample size > 30) to find the interval faster (cf = 0.9): {round(confidenceInterval[0],3)}%, {round(confidenceInterval[1],3)}%')\n"
   ]
  },
  {
   "cell_type": "markdown",
   "metadata": {},
   "source": [
    "# Challenge 3 - To practice more\n",
    "For the same example in challenge 1, calculate a confidence interval for the variance at 90% level."
   ]
  },
  {
   "cell_type": "code",
   "execution_count": 54,
   "metadata": {
    "ExecuteTime": {
     "end_time": "2019-08-05T07:18:13.766758Z",
     "start_time": "2019-08-05T07:18:13.762916Z"
    }
   },
   "outputs": [
    {
     "name": "stdout",
     "output_type": "stream",
     "text": [
      "the confidence interval for  variance with 90% confidence is (31.992400675216064, 115.32123613002649)\n"
     ]
    }
   ],
   "source": [
    "# As the height of men are independent and identically distributed random variables, \n",
    "# we can say that the variance of the heights has a confidence interval such that:\n",
    "\n",
    "# Variables\n",
    "df = len(sample) - 1\n",
    "score = stats.chi2.interval(0.90, df)\n",
    "# Parameters\n",
    "\n",
    "alpha = 0.1               # significance level = 10%\n",
    "n = len(sample)               # sample sizes\n",
    "s2 = np.var(sample, ddof=1)   # sample variance\n",
    "# Confidence interval\n",
    "\n",
    "\n",
    "upper = (n - 1) * s2 / stats.chi2.ppf(alpha / 2, df)\n",
    "lower = (n - 1) * s2 / stats.chi2.ppf(1 - alpha / 2, df)\n",
    "\n",
    "print(f'the confidence interval for  variance with 90% confidence is {lower,upper}')"
   ]
  },
  {
   "cell_type": "markdown",
   "metadata": {},
   "source": [
    "# Challenge 4 - To practice more\n",
    "The sulfuric acid content of 7 similar containers is 9.8, 10.2, 10.4, 9.8, 10.0, 10.2 and 9.6 liters. Calculate a 95% confidence interval for the average content of all containers assuming an approximately normal distribution.\n",
    "\n",
    "\n"
   ]
  },
  {
   "cell_type": "code",
   "execution_count": 61,
   "metadata": {
    "ExecuteTime": {
     "end_time": "2019-08-05T07:18:13.772385Z",
     "start_time": "2019-08-05T07:18:13.768618Z"
    }
   },
   "outputs": [],
   "source": [
    "# According to the Fisher-Cochran Lemma, the distribution of the sample means for a \n",
    "# normal distribution N(μ,σ) with unknown σ has the following parameters:\n",
    "\n",
    "# Variables\n",
    "sample = [9.8, 10.2, 10.4, 9.8, 10.0, 10.2, 9.6];\n",
    "df = len(sample) - 1\n",
    "score = stats.t.interval(0.95, df)[1]\n",
    "\n",
    "# Parameters\n",
    "sample_mean = np.mean(sample)\n",
    "sample_std = np.std(sample,ddof=1) # with ddof we indicate that this is sample variance"
   ]
  },
  {
   "cell_type": "code",
   "execution_count": 60,
   "metadata": {
    "ExecuteTime": {
     "end_time": "2019-08-05T07:18:13.776120Z",
     "start_time": "2019-08-05T07:18:13.773763Z"
    }
   },
   "outputs": [
    {
     "data": {
      "text/plain": [
       "(9.307908815501477, 10.692091184498523)"
      ]
     },
     "execution_count": 60,
     "metadata": {},
     "output_type": "execute_result"
    }
   ],
   "source": [
    "# METHOD 1\n",
    "# Confidence interval\n",
    "confint(0.95,sample,sample_mean,sample_std)"
   ]
  },
  {
   "cell_type": "code",
   "execution_count": 62,
   "metadata": {
    "ExecuteTime": {
     "end_time": "2019-08-05T07:18:13.780307Z",
     "start_time": "2019-08-05T07:18:13.778149Z"
    }
   },
   "outputs": [
    {
     "name": "stdout",
     "output_type": "stream",
     "text": [
      "using stats.t.interval (sample size < 30) to find the interval faster: (9.307908815501477, 10.692091184498523)\n"
     ]
    }
   ],
   "source": [
    "# METHOD 2\n",
    "# Confidence interval\n",
    "degrees_freedom = len(sample) - 1\n",
    "confidenceInterval = stats.t.interval(alpha=0.95,\n",
    "                                   df=degrees_freedom,\n",
    "                                   loc=sample_mean, scale=sample_std)\n",
    "print(f'using stats.t.interval (sample size < 30) to find the interval faster: {confidenceInterval}')"
   ]
  },
  {
   "cell_type": "markdown",
   "metadata": {},
   "source": [
    "# Bonus challenge\n",
    "The error level or sampling error for the first challenge is given by the following expression:\n",
    "$$Error = z_{\\frac{\\alpha}{2}}\\frac{\\sigma}{\\sqrt n}$$\n",
    "Where z represents the value for N(0,1).\n",
    "\n",
    "\n",
    "Suppose that with the previous data in the challenge 1, and with a confidence level of\n",
    "99% (that is, almost certainly) we want to estimate the average population size, so that the error level committed is not greater than half a centimeter.\n",
    "\n",
    "i) Determine what size the selected sample of men should be."
   ]
  },
  {
   "cell_type": "code",
   "execution_count": 12,
   "metadata": {
    "ExecuteTime": {
     "end_time": "2019-08-05T07:18:13.786874Z",
     "start_time": "2019-08-05T07:18:13.782238Z"
    }
   },
   "outputs": [],
   "source": [
    "# Variables\n",
    "sample = [167, 167, 168, 168, 168, 169, 171, 172, 173, 175, 175, 175, 177, 182, 195];\n",
    "pop_std = 4;\n",
    "score = stats.norm.interval(0.99)[1]\n",
    "error = 0.5\n",
    "\n",
    "# Sample Size\n"
   ]
  },
  {
   "cell_type": "markdown",
   "metadata": {},
   "source": [
    "ii) For the second challenge, we have the following error:\n",
    "$$ Error = z_{\\frac{\\alpha}{2}}\\sqrt{\\frac{p\\times q}{n}} $$\n",
    "\n",
    "Determine the sample size required to not exceed an error of 1% with a confidence of 80%."
   ]
  },
  {
   "cell_type": "code",
   "execution_count": 13,
   "metadata": {
    "ExecuteTime": {
     "end_time": "2019-08-05T07:18:13.791830Z",
     "start_time": "2019-08-05T07:18:13.788676Z"
    }
   },
   "outputs": [],
   "source": [
    "# Variables \n",
    "total_shops = 105;\n",
    "loss_shops = 27;\n",
    "score = stats.norm.interval(0.80)[1];\n",
    "error = 0.01\n",
    "\n",
    "# Parameters\n",
    "\n",
    "\n",
    "# Sample Size\n"
   ]
  },
  {
   "cell_type": "markdown",
   "metadata": {},
   "source": [
    "# Bonus challenge"
   ]
  },
  {
   "cell_type": "markdown",
   "metadata": {},
   "source": [
    "Let's consider the following problem:\n",
    "\n",
    "Build a confidence interval of 94% for the real difference between the durations of two brands of spotlights, if a sample of 40 spotlights taken randomly from the first mark gave an average duration of 418 hours, and a sample of 50 bulbs of another brand gave a duration average of 402 hours. The standard deviations of the two\n",
    "populations are 26 hours and 22 hours, respectively.\n",
    "\n",
    "Sometimes, we will be interested in the difference of two different groups of random variables. We can also build a confidence interval for that! We have some different cases regarding the variance but for this specific case (the variance are different and known), we have that:\n",
    "\n",
    "$$\\overline{X} - \\overline{Y}  \\sim N(\\mu_{X} - \\mu_{Y} , \\sqrt{\\frac{\\sigma_{X}^2}{n_X}+\\frac{\\sigma_{Y}^2}{n_Y}})$$\n",
    "\n",
    "Solve the problem with this information."
   ]
  },
  {
   "cell_type": "code",
   "execution_count": 14,
   "metadata": {
    "ExecuteTime": {
     "end_time": "2019-08-05T07:18:13.813436Z",
     "start_time": "2019-08-05T07:18:13.809279Z"
    }
   },
   "outputs": [],
   "source": [
    "# Variables\n",
    "score = stats.norm.interval(0.94)[1]\n",
    "\n",
    "# Sample 1\n",
    "size_s1 = 40;\n",
    "avg_time_s1 = 418;\n",
    "std_time_s1 = 26;\n",
    "\n",
    "# Sample 2\n",
    "size_s2 = 50;\n",
    "avg_time_s2 = 402;\n",
    "std_time_s2 = 22;\n",
    "\n",
    "# Parameters\n"
   ]
  },
  {
   "cell_type": "code",
   "execution_count": 15,
   "metadata": {
    "ExecuteTime": {
     "end_time": "2019-08-05T07:18:13.817680Z",
     "start_time": "2019-08-05T07:18:13.815550Z"
    }
   },
   "outputs": [],
   "source": [
    "# METHOD 1\n",
    "# Confidence interval\n"
   ]
  },
  {
   "cell_type": "code",
   "execution_count": 16,
   "metadata": {
    "ExecuteTime": {
     "end_time": "2019-08-05T07:18:13.821904Z",
     "start_time": "2019-08-05T07:18:13.819724Z"
    }
   },
   "outputs": [],
   "source": [
    "# METHOD 2\n",
    "# Confidence interval\n"
   ]
  }
 ],
 "metadata": {
  "kernelspec": {
   "display_name": "Python 3 (ipykernel)",
   "language": "python",
   "name": "python3"
  },
  "language_info": {
   "codemirror_mode": {
    "name": "ipython",
    "version": 3
   },
   "file_extension": ".py",
   "mimetype": "text/x-python",
   "name": "python",
   "nbconvert_exporter": "python",
   "pygments_lexer": "ipython3",
   "version": "3.8.12"
  },
  "toc": {
   "base_numbering": 1,
   "nav_menu": {},
   "number_sections": true,
   "sideBar": true,
   "skip_h1_title": false,
   "title_cell": "Table of Contents",
   "title_sidebar": "Contents",
   "toc_cell": false,
   "toc_position": {},
   "toc_section_display": true,
   "toc_window_display": false
  },
  "varInspector": {
   "cols": {
    "lenName": 16,
    "lenType": 16,
    "lenVar": 40
   },
   "kernels_config": {
    "python": {
     "delete_cmd_postfix": "",
     "delete_cmd_prefix": "del ",
     "library": "var_list.py",
     "varRefreshCmd": "print(var_dic_list())"
    },
    "r": {
     "delete_cmd_postfix": ") ",
     "delete_cmd_prefix": "rm(",
     "library": "var_list.r",
     "varRefreshCmd": "cat(var_dic_list()) "
    }
   },
   "types_to_exclude": [
    "module",
    "function",
    "builtin_function_or_method",
    "instance",
    "_Feature"
   ],
   "window_display": false
  }
 },
 "nbformat": 4,
 "nbformat_minor": 2
}
